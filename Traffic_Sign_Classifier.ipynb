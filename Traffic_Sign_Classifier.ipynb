{
 "cells": [
  {
   "cell_type": "markdown",
   "metadata": {},
   "source": [
    "# Self-Driving Car Engineer Nanodegree\n",
    "\n",
    "## Deep Learning\n",
    "\n",
    "## Project: Build a Traffic Sign Recognition Classifier\n",
    "\n",
    "In this notebook, a template is provided for you to implement your functionality in stages, which is required to successfully complete this project. If additional code is required that cannot be included in the notebook, be sure that the Python code is successfully imported and included in your submission if necessary. \n",
    "\n",
    "> **Note**: Once you have completed all of the code implementations, you need to finalize your work by exporting the iPython Notebook as an HTML document. Before exporting the notebook to html, all of the code cells need to have been run so that reviewers can see the final implementation and output. You can then export the notebook by using the menu above and navigating to  \\n\",\n",
    "    \"**File -> Download as -> HTML (.html)**. Include the finished document along with this notebook as your submission. \n",
    "\n",
    "In addition to implementing code, there is a writeup to complete. The writeup should be completed in a separate file, which can be either a markdown file or a pdf document. There is a [write up template](https://github.com/udacity/CarND-Traffic-Sign-Classifier-Project/blob/master/writeup_template.md) that can be used to guide the writing process. Completing the code template and writeup template will cover all of the [rubric points](https://review.udacity.com/#!/rubrics/481/view) for this project.\n",
    "\n",
    "The [rubric](https://review.udacity.com/#!/rubrics/481/view) contains \"Stand Out Suggestions\" for enhancing the project beyond the minimum requirements. The stand out suggestions are optional. If you decide to pursue the \"stand out suggestions\", you can include the code in this Ipython notebook and also discuss the results in the writeup file.\n",
    "\n",
    "\n",
    ">**Note:** Code and Markdown cells can be executed using the **Shift + Enter** keyboard shortcut. In addition, Markdown cells can be edited by typically double-clicking the cell to enter edit mode."
   ]
  },
  {
   "cell_type": "markdown",
   "metadata": {},
   "source": [
    "---\n",
    "## Step 0: Load The Data"
   ]
  },
  {
   "cell_type": "code",
   "execution_count": 1,
   "metadata": {},
   "outputs": [],
   "source": [
    "# Load pickled data\n",
    "import pickle\n",
    "import cv2\n",
    "\n",
    "# TODO: Fill this in based on where you saved the training and testing data\n",
    "\n",
    "training_file    = \"/home/brian/Documents/Training/Udacity/Self_Driving_Car/data/train.p\"\n",
    "validation_file  = \"/home/brian/Documents/Training/Udacity/Self_Driving_Car/data/valid.p\"\n",
    "testing_file     = \"/home/brian/Documents/Training/Udacity/Self_Driving_Car/data/test.p\"\n",
    "\n",
    "with open(training_file, mode='rb') as f:\n",
    "    train = pickle.load(f)\n",
    "with open(validation_file, mode='rb') as f:\n",
    "    valid = pickle.load(f)\n",
    "with open(testing_file, mode='rb') as f:\n",
    "    test = pickle.load(f)\n",
    "    \n",
    "X_train, y_train = train['features'], train['labels']\n",
    "X_valid, y_valid = valid['features'], valid['labels']\n",
    "X_test, y_test = test['features'], test['labels']"
   ]
  },
  {
   "cell_type": "code",
   "execution_count": 2,
   "metadata": {},
   "outputs": [
    {
     "name": "stdout",
     "output_type": "stream",
     "text": [
      "(34799,)\n"
     ]
    }
   ],
   "source": [
    "print(y_train.shape)"
   ]
  },
  {
   "cell_type": "markdown",
   "metadata": {},
   "source": [
    "---\n",
    "\n",
    "## Step 1: Dataset Summary & Exploration\n",
    "\n",
    "The pickled data is a dictionary with 4 key/value pairs:\n",
    "\n",
    "- `'features'` is a 4D array containing raw pixel data of the traffic sign images, (num examples, width, height, channels).\n",
    "- `'labels'` is a 1D array containing the label/class id of the traffic sign. The file `signnames.csv` contains id -> name mappings for each id.\n",
    "- `'sizes'` is a list containing tuples, (width, height) representing the original width and height the image.\n",
    "- `'coords'` is a list containing tuples, (x1, y1, x2, y2) representing coordinates of a bounding box around the sign in the image. **THESE COORDINATES ASSUME THE ORIGINAL IMAGE. THE PICKLED DATA CONTAINS RESIZED VERSIONS (32 by 32) OF THESE IMAGES**\n",
    "\n",
    "Complete the basic data summary below. Use python, numpy and/or pandas methods to calculate the data summary rather than hard coding the results. For example, the [pandas shape method](http://pandas.pydata.org/pandas-docs/stable/generated/pandas.DataFrame.shape.html) might be useful for calculating some of the summary results. "
   ]
  },
  {
   "cell_type": "markdown",
   "metadata": {},
   "source": [
    "### Provide a Basic Summary of the Data Set Using Python, Numpy and/or Pandas"
   ]
  },
  {
   "cell_type": "code",
   "execution_count": 3,
   "metadata": {},
   "outputs": [
    {
     "name": "stdout",
     "output_type": "stream",
     "text": [
      "Number of training examples = 34799\n",
      "Number of testing examples = 12630\n",
      "Image data shape = (32, 32)\n",
      "Number of classes = 43\n"
     ]
    }
   ],
   "source": [
    "### Replace each question mark with the appropriate value. \n",
    "### Use python, pandas or numpy methods rather than hard coding the results\n",
    "import numpy as np\n",
    "# TODO: Number of training examples\n",
    "n_train = X_train.shape[0]\n",
    "# TODO: Number of validation examples\n",
    "n_validation = X_valid.shape[0]\n",
    "\n",
    "# TODO: Number of testing examples.\n",
    "n_test = X_test.shape[0]\n",
    "\n",
    "# TODO: What's the shape of an traffic sign image?\n",
    "image_shape = X_train.shape[1:3]\n",
    "\n",
    "# TODO: How many unique classes/labels there are in the dataset.\n",
    "n_classes = np.unique(y_train).size\n",
    "\n",
    "print(\"Number of training examples =\", n_train)\n",
    "print(\"Number of testing examples =\", n_test)\n",
    "print(\"Image data shape =\", image_shape)\n",
    "print(\"Number of classes =\", n_classes)\n",
    "\n",
    "#test = X_train[1]\n",
    "#print(test)"
   ]
  },
  {
   "cell_type": "markdown",
   "metadata": {},
   "source": [
    "### Include an exploratory visualization of the dataset"
   ]
  },
  {
   "cell_type": "markdown",
   "metadata": {},
   "source": [
    "Visualize the German Traffic Signs Dataset using the pickled file(s). This is open ended, suggestions include: plotting traffic sign images, plotting the count of each sign, etc. \n",
    "\n",
    "The [Matplotlib](http://matplotlib.org/) [examples](http://matplotlib.org/examples/index.html) and [gallery](http://matplotlib.org/gallery.html) pages are a great resource for doing visualizations in Python.\n",
    "\n",
    "**NOTE:** It's recommended you start with something simple first. If you wish to do more, come back to it after you've completed the rest of the sections. It can be interesting to look at the distribution of classes in the training, validation and test set. Is the distribution the same? Are there more examples of some classes than others?"
   ]
  },
  {
   "cell_type": "code",
   "execution_count": 4,
   "metadata": {},
   "outputs": [
    {
     "data": {
      "text/plain": [
       "<matplotlib.image.AxesImage at 0x7fc7b4cc6c88>"
      ]
     },
     "execution_count": 4,
     "metadata": {},
     "output_type": "execute_result"
    },
    {
     "data": {
      "image/png": "[encoded data removed]",
      "text/plain": [
       "<Figure size 432x288 with 1 Axes>"
      ]
     },
     "metadata": {},
     "output_type": "display_data"
    }
   ],
   "source": [
    "### Data exploration visualization code goes here.\n",
    "### Feel free to use as many code cells as needed.\n",
    "import matplotlib.pyplot as plt\n",
    "# Visualizations will be shown in the notebook.\n",
    "%matplotlib inline\n",
    "\n",
    "plt.figure(1)\n",
    "plt.subplot(211)\n",
    "plt.imshow(X_train[20410])\n",
    "#print(X_train[20410])"
   ]
  },
  {
   "cell_type": "markdown",
   "metadata": {},
   "source": [
    "----\n",
    "\n",
    "## Step 2: Design and Test a Model Architecture\n",
    "\n",
    "Design and implement a deep learning model that learns to recognize traffic signs. Train and test your model on the [German Traffic Sign Dataset](http://benchmark.ini.rub.de/?section=gtsrb&subsection=dataset).\n",
    "\n",
    "The LeNet-5 implementation shown in the [classroom](https://classroom.udacity.com/nanodegrees/nd013/parts/fbf77062-5703-404e-b60c-95b78b2f3f9e/modules/6df7ae49-c61c-4bb2-a23e-6527e69209ec/lessons/601ae704-1035-4287-8b11-e2c2716217ad/concepts/d4aca031-508f-4e0b-b493-e7b706120f81) at the end of the CNN lesson is a solid starting point. You'll have to change the number of classes and possibly the preprocessing, but aside from that it's plug and play! \n",
    "\n",
    "With the LeNet-5 solution from the lecture, you should expect a validation set accuracy of about 0.89. To meet specifications, the validation set accuracy will need to be at least 0.93. It is possible to get an even higher accuracy, but 0.93 is the minimum for a successful project submission. \n",
    "\n",
    "There are various aspects to consider when thinking about this problem:\n",
    "\n",
    "- Neural network architecture (is the network over or underfitting?)\n",
    "- Play around preprocessing techniques (normalization, rgb to grayscale, etc)\n",
    "- Number of examples per label (some have more than others).\n",
    "- Generate fake data.\n",
    "\n",
    "Here is an example of a [published baseline model on this problem](http://yann.lecun.com/exdb/publis/pdf/sermanet-ijcnn-11.pdf). It's not required to be familiar with the approach used in the paper but, it's good practice to try to read papers like these."
   ]
  },
  {
   "cell_type": "markdown",
   "metadata": {},
   "source": [
    "### Pre-process the Data Set (normalization, grayscale, etc.)"
   ]
  },
  {
   "cell_type": "markdown",
   "metadata": {},
   "source": [
    "Minimally, the image data should be normalized so that the data has mean zero and equal variance. For image data, `(pixel - 128)/ 128` is a quick way to approximately normalize the data and can be used in this project. \n",
    "\n",
    "Other pre-processing steps are optional. You can try different techniques to see if it improves performance. \n",
    "\n",
    "Use the code cell (or multiple code cells, if necessary) to implement the first step of your project."
   ]
  },
  {
   "cell_type": "code",
   "execution_count": 5,
   "metadata": {},
   "outputs": [
    {
     "name": "stdout",
     "output_type": "stream",
     "text": [
      "(1, 32, 32, 1)\n",
      "(32, 32)\n",
      "[[25 24 24 ... 27 27 27]\n",
      " [26 25 25 ... 27 27 27]\n",
      " [26 25 25 ... 27 27 27]\n",
      " ...\n",
      " [24 25 25 ... 24 24 25]\n",
      " [24 25 25 ... 24 24 24]\n",
      " [24 25 25 ... 24 23 22]]\n"
     ]
    },
    {
     "data": {
      "image/png": "[encoded data removed]",
      "text/plain": [
       "<Figure size 432x288 with 4 Axes>"
      ]
     },
     "metadata": {},
     "output_type": "display_data"
    }
   ],
   "source": [
    "plt.subplot(2,2,1)\n",
    "plt.imshow(X_train[0,0:32,0:32,:])\n",
    "plt.subplot(2,2,2)\n",
    "plt.imshow(X_train[0,0:31,0:31,1])\n",
    "plt.subplot(2,2,3)\n",
    "plt.imshow(X_train[0,0:31,0:31,2])\n",
    "\n",
    "#print(X_train[0,0:32,0:32,:].shape)\n",
    "#print(X_train[0,0:32,0:32,0])\n",
    "#print(X_train[0,0:32,0:32,1])\n",
    "#print(X_train[0,0:32,0:32,2])\n",
    "\n",
    "test = np.reshape(np.dot(X_train[0,0:32,0:32,:], [0.587, 0.299, 0.114]), (1,32,32,1))\n",
    "test2 = (test - test.min() ) / (np.max(test) - np.min(test))\n",
    "\n",
    "print(test2.shape)\n",
    "#print(test2[0].shape)\n",
    "\n",
    "\n",
    "plt.subplot(2,2,4)\n",
    "#plt.imshow(test2[0][:])\n",
    "\n",
    "test3 = cv2.cvtColor(X_train[0,0:32,0:32,:], cv2.COLOR_BGR2GRAY)\n",
    "print(test3.shape)\n",
    "print(test3[0:32,0:32])\n",
    "#plt.subplot(2,2,4)\n",
    "#plt.imshow(test3)"
   ]
  },
  {
   "cell_type": "code",
   "execution_count": 6,
   "metadata": {
    "scrolled": true
   },
   "outputs": [
    {
     "name": "stderr",
     "output_type": "stream",
     "text": [
      "/home/brian/Programs/anaconda3/envs/traffic-sign/lib/python3.6/site-packages/skimage/util/dtype.py:141: UserWarning: Possible precision loss when converting from float32 to uint16\n",
      "  .format(dtypeobj_in, dtypeobj_out))\n"
     ]
    }
   ],
   "source": [
    "from sklearn.utils import shuffle\n",
    "from skimage import exposure\n",
    "\n",
    "grey_1_tr = 0.299 * X_train[:,:,:,0] + 0.587 * X_train[:,:,:,1] + 0.114 * X_train[:,:,:,2]\n",
    "grey_1a_tr = (grey_1_tr / 255.).astype(np.float32)\n",
    "\n",
    "grey_1b_tr = grey_1a_tr\n",
    "for i in range(grey_1a_tr.shape[0]):\n",
    "    grey_1b_tr[i] = exposure.equalize_adapthist(grey_1a_tr[i])\n",
    "\n",
    "grey_1c_tr = grey_1b_tr.reshape(grey_1b_tr.shape + (1,))"
   ]
  },
  {
   "cell_type": "code",
   "execution_count": 7,
   "metadata": {},
   "outputs": [
    {
     "name": "stderr",
     "output_type": "stream",
     "text": [
      "/home/brian/Programs/anaconda3/envs/traffic-sign/lib/python3.6/site-packages/skimage/util/dtype.py:141: UserWarning: Possible precision loss when converting from float32 to uint16\n",
      "  .format(dtypeobj_in, dtypeobj_out))\n"
     ]
    }
   ],
   "source": [
    "grey_1_va = 0.299 * X_valid[:,:,:,0] + 0.587 * X_valid[:,:,:,1] + 0.114 * X_valid[:,:,:,2]\n",
    "grey_1a_va = (grey_1_va / 255.).astype(np.float32)\n",
    "\n",
    "grey_1b_va = grey_1a_va\n",
    "for i in range(grey_1a_va.shape[0]):\n",
    "    grey_1b_va[i] = exposure.equalize_adapthist(grey_1a_va[i])\n",
    "\n",
    "grey_1c_va = grey_1b_va.reshape(grey_1b_va.shape + (1,))"
   ]
  },
  {
   "cell_type": "code",
   "execution_count": 8,
   "metadata": {},
   "outputs": [
    {
     "data": {
      "image/png": "[encoded data removed]",
      "text/plain": [
       "<Figure size 432x288 with 1 Axes>"
      ]
     },
     "metadata": {},
     "output_type": "display_data"
    }
   ],
   "source": [
    "#from keras.utils import np_utils\n",
    "#Convert to grayscale and normalise\n",
    "grey_train = np.reshape(np.dot(X_train[...,:3], [0.299, 0.587, 0.114]), (X_train.shape[0], 32, 32, 1))\n",
    "\n",
    "#rgb = bgr[...,::-1]\n",
    "\n",
    "grey_train_2 = np.reshape(np.dot(X_train[...,:3], [0.587, 0.114, 0.299]), (X_train.shape[0], 32, 32, 1))\n",
    "\n",
    "#test = np.dot(X_train[0,1::3], [0.299, 0.587, 0.114])\n",
    "plt.imshow(grey_train_2[20410,0:31,0:31,0])\n",
    "\n",
    "#grey_train_2 = X_train\n",
    "#for img in np.nditer(X_train.shape[0]):\n",
    "#    grey_train_2[img] = cv2.cvtColor(X_train[img], cv2.COLOR_BGR2GRAY)#, (X_train.shape[0], 32, 32, 1))\n",
    "#grey_train_2 = np.reshape(cv2.cvtColor(X_train, cv2.COLOR_BGR2GRAY), (X_train.shape[0], 32, 32, 1))\n",
    "normalised_grey_train = (grey_train - grey_train.mean() )/ (np.max(grey_train) - np.min(grey_train))\n",
    "standardised_x_train = (X_train - X_train.min()) / np.std(X_train)\n",
    "normalised_x_train = (standardised_x_train - standardised_x_train.min() ) / (np.max(standardised_x_train) - np.min(standardised_x_train))\n",
    "\n",
    "grey_valid = np.reshape(np.dot(X_valid[...,:3], [0.299, 0.587, 0.114]), (X_valid.shape[0], 32, 32, 1))\n",
    "normalised_grey_valid = (grey_valid - grey_valid.mean() )/ (np.max(grey_valid) - np.min(grey_valid))\n",
    "normalised_x_valid = (X_valid - X_valid.min() ) / (np.max(X_valid) - np.min(X_valid))\n",
    "\n",
    "grey_test  = np.reshape(np.dot(X_test[...,:3], [0.299, 0.587, 0.114]), (X_test.shape[0], 32, 32, 1))\n",
    "normalised_grey_test  = (grey_test - grey_test.mean() )/ (np.max(grey_test) - np.min(grey_test))\n",
    "normalised_x_test = (X_test - X_test.min() ) / (np.max(X_test) - np.min(X_test))\n",
    "\n",
    "#normalised_grey_train = (X_train - X_train.mean() )/ (np.max(X_train) - np.min(X_train))\n",
    "#normalised_grey_valid = (X_valid - X_valid.mean() )/ (np.max(X_valid) - np.min(X_valid))\n",
    "#normalised_grey_test  = (X_test - X_test.mean() )/ (np.max(X_test) - np.min(X_test))\n",
    "\n",
    "# One-hot encode labels\n",
    "#y_train = np_utils.to_categorical(y_train,nb_classes=n_classes)\n",
    "#y_valid = np_utils.to_categorical(y_valid, nb_classes=n_classes)\n",
    "#y_test = np_utils.to_categorical(y_test, nb_classes=n_classes)\n",
    "\n",
    "from sklearn.utils import shuffle"
   ]
  },
  {
   "cell_type": "code",
   "execution_count": 10,
   "metadata": {},
   "outputs": [
    {
     "name": "stdout",
     "output_type": "stream",
     "text": [
      "(34799, 32, 32, 3)\n",
      "Min : 0\n",
      "Max : 255\n",
      "(34799, 32, 32)\n",
      "Min : 0.0\n",
      "Max : 1.0\n",
      "(34799, 32, 32)\n",
      "Min : 0.0\n",
      "Max : 1.0\n",
      "(34799, 32, 32, 1)\n",
      "Min : 0.0\n",
      "Max : 1.0\n",
      "(32, 32, 3)\n"
     ]
    },
    {
     "data": {
      "text/plain": [
       "<matplotlib.image.AxesImage at 0x7fc78693e780>"
      ]
     },
     "execution_count": 10,
     "metadata": {},
     "output_type": "execute_result"
    },
    {
     "data": {
      "image/png": "[encoded data removed]",
      "text/plain": [
       "<Figure size 432x288 with 6 Axes>"
      ]
     },
     "metadata": {},
     "output_type": "display_data"
    }
   ],
   "source": [
    "print(X_train.shape)\n",
    "print(\"Min :\", X_train.min())\n",
    "print(\"Max :\", X_train.max())\n",
    "#print(X_train[1])\n",
    "print(grey_1a_tr.shape)\n",
    "print(\"Min :\", grey_1a_tr.min())\n",
    "print(\"Max :\", grey_1a_tr.max())\n",
    "#print(grey_1a[1])\n",
    "#print(grey_1c)\n",
    "print(grey_1b_tr.shape)\n",
    "print(\"Min :\", grey_1b_tr.min())\n",
    "print(\"Max :\", grey_1b_tr.max())\n",
    "#print(grey_1c)\n",
    "print(grey_1c_tr.shape)\n",
    "print(\"Min :\", grey_1c_tr.min())\n",
    "print(\"Max :\", grey_1c_tr.max())\n",
    "#print(grey_1c)\n",
    "\n",
    "from skimage import io\n",
    "from skimage import color\n",
    "import cv2\n",
    "\n",
    "def rgb2gray(rgb):\n",
    "    return np.dot(rgb[...,:3], [0.299, 0.587, 0.114])\n",
    "\n",
    "img_20410 = color.rgb2gray(X_train[20410])\n",
    "cv2_gray = cv2.cvtColor(X_train[20410], cv2.COLOR_BGR2GRAY)\n",
    "#plt.imshow(img_20410, cmap = plt.get_cmap('gray'))\n",
    "print(X_train[20410].shape)\n",
    "#X_train_test = plt.cm.get_cmap(X_train[20410,])\n",
    "##colors = X_train_test(np.arange(X_train_test.N))\n",
    "#RGB_weight = [0.299, 0.587, 0.114]\n",
    "#luminance = np.sqrt(np.dot(colors[:, :3] ** 2, RGB_weight))\n",
    "#colors[:, :3] = luminance[:, np.newaxis]\n",
    "\n",
    "plt.subplot(2,3,1)\n",
    "plt.imshow(X_train[20410], cmap = 'gray')\n",
    "plt.subplot(2,3,2)\n",
    "plt.imshow(cv2_gray, cmap = 'gray')\n",
    "plt.subplot(2,3,3)\n",
    "plt.imshow(img_20410)\n",
    "plt.subplot(2,3,4)\n",
    "plt.imshow(img_20410, cmap = plt.get_cmap('gray'))\n",
    "plt.subplot(2,3,5)\n",
    "plt.imshow(grey_1b_tr[20410,0:31,0:31])\n",
    "plt.subplot(2,3,6)\n",
    "plt.imshow(grey_1c_tr[20410,0:31,0:31,0])"
   ]
  },
  {
   "cell_type": "markdown",
   "metadata": {},
   "source": [
    "def plot_norm_image(image_index):\n",
    "    plt.subplot(2,2,1)\n",
    "    plt.imshow(X_train[image_index])\n",
    "    plt.subplot(2,2,2)\n",
    "   # plt.imshow(grey_train[image_index])\n",
    "    plt.subplot(2,2,3)\n",
    "#    plt.imshow(normalised_grey_train[image_index])\n",
    "    plt.subplot(2,2,4)\n",
    "    plt.imshow(normalised_x_train[image_index])\n",
    " #   plt.subplot(2,2,5)\n",
    "  #  plt.imshow(standardised_x_train[image_index])\n",
    "plot_norm_image(20410)\n",
    "#plot_norm_image(28000)\n",
    "#plot_norm_image(1000)\n",
    "\n",
    "print(np.min(grey_train))\n",
    "print(np.mean(grey_train))\n",
    "print(np.max(grey_train))\n",
    "print()\n",
    "print(np.min(normalised_grey_train))\n",
    "print(np.mean(normalised_grey_train))\n",
    "print(np.max(normalised_grey_train))\n",
    "print()\n",
    "print(np.min(normalised_x_train))\n",
    "print(np.mean(normalised_x_train))\n",
    "print(np.max(normalised_x_train))\n",
    "print()\n",
    "print(np.min(standardised_x_train))\n",
    "print(np.mean(standardised_x_train))\n",
    "print(np.max(standardised_x_train))\n",
    "\n"
   ]
  },
  {
   "cell_type": "code",
   "execution_count": 11,
   "metadata": {},
   "outputs": [
    {
     "name": "stdout",
     "output_type": "stream",
     "text": [
      "3\n"
     ]
    },
    {
     "data": {
      "image/png": "[encoded data removed]",
      "text/plain": [
       "<Figure size 864x1008 with 8 Axes>"
      ]
     },
     "metadata": {},
     "output_type": "display_data"
    }
   ],
   "source": [
    "import random\n",
    "\n",
    "def plot_figures(figures, nrows = 1, ncols=1, labels=None):\n",
    "    fig, axs = plt.subplots(ncols=ncols, nrows=nrows, figsize=(12, 14))\n",
    "    axs = axs.ravel()\n",
    "    for index, title in zip(range(len(figures)), figures):\n",
    "        axs[index].imshow(figures[title], plt.gray())\n",
    "        if(labels != None):\n",
    "           axs[index].set_title(labels[index])\n",
    "        else:\n",
    "            axs[index].set_title(title)\n",
    "            \n",
    "        axs[index].set_axis_off()\n",
    "        \n",
    "    plt.tight_layout()\n",
    "\n",
    "image_depth_channels = X_train.shape[3]\n",
    "\n",
    "print(image_depth_channels)\n",
    "\n",
    "number_to_stop = 8\n",
    "figures = {}\n",
    "random_signs = []\n",
    "for i in range(number_to_stop):\n",
    "    index = random.randint(0, n_train-1)\n",
    "#    labels[i] = name_values[y_train[index]][1].decode('ascii')\n",
    "    figures[i] = grey_1c_tr[index].squeeze()\n",
    "    random_signs.append(index)\n",
    "    \n",
    "# print(random_signs)\n",
    "plot_figures(figures, 4, 2)\n",
    "\n"
   ]
  },
  {
   "cell_type": "markdown",
   "metadata": {},
   "source": [
    "### Model Architecture"
   ]
  },
  {
   "cell_type": "code",
   "execution_count": 28,
   "metadata": {},
   "outputs": [],
   "source": [
    "### Define your architecture here.\n",
    "import tensorflow as tf\n",
    "from tensorflow.contrib.layers import flatten\n",
    "\n",
    "def LeNet(raw_x):\n",
    "    mu = 0\n",
    "    sigma = 0.1\n",
    "    \n",
    "    # Layer 1: Convolutional. Input = 32x32x1. Output = 28x28x6.\n",
    "    conv1_W = tf.Variable(tf.truncated_normal(shape=(5, 5, 1, 6), mean = mu, stddev = sigma))\n",
    "#    conv1_W = tf.Variable(tf.truncated_normal(shape=(5, 5, 3, 6), mean = mu, stddev = sigma))\n",
    "    conv1_b = tf.Variable(tf.zeros(6))\n",
    "    conv1   = tf.nn.conv2d(raw_x, conv1_W, strides=[1, 1, 1, 1], padding='VALID') + conv1_b\n",
    "\n",
    "    # Activation.\n",
    "    conv1 = tf.nn.relu(conv1)\n",
    "\n",
    "    # Pooling. Input = 28x28x6. Output = 14x14x6.\n",
    "    ksize = [1,2,2,1]\n",
    "    strides = [1,2,2,1]\n",
    "    pool_padding = 'VALID'\n",
    "    pool_1 = tf.nn.max_pool(conv1, ksize, strides, pool_padding)\n",
    "    \n",
    "    # Dropout\n",
    "    pool_1_do = tf.nn.dropout(pool_1, keep_prob=0.25)\n",
    "\n",
    "    # Layer 2: Convolutional. Output = 10x10x16.\n",
    "    conv2_W = tf.Variable(tf.truncated_normal(shape=(5, 5, 6, 16), mean = mu, stddev = sigma))\n",
    "    conv2_b = tf.Variable(tf.zeros(16))\n",
    "    conv2   = tf.nn.conv2d(pool_1_do, conv2_W, strides=[1, 1, 1, 1], padding='VALID') + conv2_b\n",
    "\n",
    "    # Activation.\n",
    "    conv2 = tf.nn.relu(conv2)\n",
    "\n",
    "    # Pooling. Input = 10x10x16. Output = 5x5x16.\n",
    "    ksize = [1,2,2,1]\n",
    "    strides = [1,2,2,1]\n",
    "    pool_padding = 'VALID'\n",
    "    pool_2 = tf.nn.max_pool(conv2, ksize, strides, pool_padding)\n",
    "    \n",
    "    # Dropout\n",
    "    pool_2_do = tf.nn.dropout(pool_2, keep_prob=0.75)\n",
    "    \n",
    "    # Flatten. Input = 5x5x16. Output = 400.\n",
    "    flat = flatten(pool_2_do)\n",
    "    \n",
    "    # Layer 3: Fully Connected. Input = 400. Output = 120.\n",
    "    fc1_W = tf.Variable(tf.truncated_normal(shape=(400,120), mean = mu, stddev = sigma))\n",
    "    fc1_b = tf.Variable(tf.zeros(120))\n",
    "    fc1   = tf.matmul(flat, fc1_W) + fc1_b\n",
    "    \n",
    "    # Activation.\n",
    "    fc1 = tf.nn.relu(fc1)\n",
    "\n",
    "    # Layer 4: Fully Connected. Input = 120. Output = 84.\n",
    "    fc2_W = tf.Variable(tf.truncated_normal(shape=(120, 84), mean = mu, stddev = sigma))\n",
    "    fc2_b = tf.Variable(tf.zeros(84))\n",
    "    fc2   = tf.matmul(fc1, fc2_W) + fc2_b\n",
    "    \n",
    "    # Activation.\n",
    "    fc2 = tf.nn.relu(fc2)\n",
    "\n",
    "    # Layer 5: Fully Connected. Input = 84. Output = 10.\n",
    "    fc3_W = tf.Variable(tf.truncated_normal(shape=(84, n_classes), mean = mu, stddev = sigma))\n",
    "    fc3_b = tf.Variable(tf.zeros(n_classes))\n",
    "    logits   = tf.matmul(fc2, fc3_W) + fc3_b\n",
    "    \n",
    "    return logits\n",
    "\n",
    "x = tf.placeholder(tf.float32, (None, 32, 32, 1))\n",
    "#x = tf.placeholder(tf.float32, (None, 32, 32, 3))\n",
    "y = tf.placeholder(tf.int32, (None))\n",
    "one_hot_y = tf.one_hot(y, n_classes)\n"
   ]
  },
  {
   "cell_type": "markdown",
   "metadata": {},
   "source": [
    "### Train, Validate and Test the Model"
   ]
  },
  {
   "cell_type": "markdown",
   "metadata": {},
   "source": [
    "A validation set can be used to assess how well the model is performing. A low accuracy on the training and validation\n",
    "sets imply underfitting. A high accuracy on the training set but low accuracy on the validation set implies overfitting."
   ]
  },
  {
   "cell_type": "code",
   "execution_count": 29,
   "metadata": {},
   "outputs": [],
   "source": [
    "rate = 0.005\n",
    "\n",
    "logits = LeNet(x)\n",
    "cross_entropy = tf.nn.softmax_cross_entropy_with_logits_v2(logits=logits, labels=one_hot_y)\n",
    "loss_operation = tf.reduce_mean(cross_entropy)\n",
    "optimizer = tf.train.AdamOptimizer(learning_rate = rate)\n",
    "training_operation = optimizer.minimize(loss_operation)"
   ]
  },
  {
   "cell_type": "code",
   "execution_count": 31,
   "metadata": {},
   "outputs": [],
   "source": [
    "# Model Evaluation\n",
    "correct_prediction = tf.equal(tf.argmax(logits, 1), tf.argmax(one_hot_y, 1))\n",
    "accuracy_operation = tf.reduce_mean(tf.cast(correct_prediction, tf.float32))\n",
    "saver = tf.train.Saver()\n",
    "\n",
    "def evaluate(x_data, y_data):\n",
    "    num_examples = len(x_data)\n",
    "    total_accuracy = 0\n",
    "    sess = tf.get_default_session()\n",
    "    #print(\"evaluation\")\n",
    "    for offset in range(0, num_examples, BATCH_SIZE):\n",
    "        batch_x, batch_y = x_data[offset:offset+BATCH_SIZE], y_data[offset:offset+BATCH_SIZE]\n",
    "        #print(batch_x.shape)\n",
    "        #print(batch_y.shape)\n",
    "        accuracy = sess.run(accuracy_operation, feed_dict={x: batch_x, y: batch_y})\n",
    "        total_accuracy += (accuracy * len(batch_x))\n",
    "    #print()\n",
    "    return total_accuracy / num_examples"
   ]
  },
  {
   "cell_type": "code",
   "execution_count": 33,
   "metadata": {},
   "outputs": [
    {
     "name": "stdout",
     "output_type": "stream",
     "text": [
      "34799\n",
      "Training...\n",
      "\n",
      "EPOCH 25 ...\n",
      "Validation Accuracy = 0.751\n",
      "\n",
      "EPOCH 50 ...\n",
      "Validation Accuracy = 0.765\n",
      "\n",
      "EPOCH 75 ...\n",
      "Validation Accuracy = 0.761\n",
      "\n",
      "EPOCH 100 ...\n",
      "Validation Accuracy = 0.772\n",
      "\n",
      "EPOCH 125 ...\n",
      "Validation Accuracy = 0.780\n",
      "\n",
      "EPOCH 150 ...\n",
      "Validation Accuracy = 0.780\n",
      "\n",
      "EPOCH 175 ...\n",
      "Validation Accuracy = 0.783\n",
      "\n",
      "EPOCH 200 ...\n",
      "Validation Accuracy = 0.780\n",
      "\n",
      "EPOCH 225 ...\n",
      "Validation Accuracy = 0.781\n",
      "\n",
      "EPOCH 250 ...\n",
      "Validation Accuracy = 0.773\n",
      "\n",
      "EPOCH 275 ...\n",
      "Validation Accuracy = 0.771\n",
      "\n",
      "EPOCH 300 ...\n",
      "Validation Accuracy = 0.786\n",
      "\n",
      "EPOCH 325 ...\n",
      "Validation Accuracy = 0.785\n",
      "\n",
      "EPOCH 350 ...\n",
      "Validation Accuracy = 0.799\n",
      "\n",
      "EPOCH 375 ...\n",
      "Validation Accuracy = 0.791\n",
      "\n",
      "EPOCH 400 ...\n",
      "Validation Accuracy = 0.792\n",
      "\n",
      "EPOCH 425 ...\n",
      "Validation Accuracy = 0.785\n",
      "\n",
      "EPOCH 450 ...\n",
      "Validation Accuracy = 0.784\n",
      "\n",
      "EPOCH 475 ...\n",
      "Validation Accuracy = 0.787\n",
      "\n",
      "EPOCH 500 ...\n",
      "Validation Accuracy = 0.778\n",
      "\n",
      "EPOCH 525 ...\n",
      "Validation Accuracy = 0.769\n",
      "\n",
      "EPOCH 550 ...\n",
      "Validation Accuracy = 0.781\n",
      "\n",
      "EPOCH 575 ...\n",
      "Validation Accuracy = 0.790\n",
      "\n",
      "EPOCH 600 ...\n",
      "Validation Accuracy = 0.778\n",
      "\n",
      "EPOCH 625 ...\n",
      "Validation Accuracy = 0.775\n",
      "\n",
      "EPOCH 650 ...\n",
      "Validation Accuracy = 0.792\n",
      "\n",
      "EPOCH 675 ...\n",
      "Validation Accuracy = 0.784\n",
      "\n",
      "EPOCH 700 ...\n",
      "Validation Accuracy = 0.794\n",
      "\n",
      "EPOCH 725 ...\n",
      "Validation Accuracy = 0.782\n",
      "\n",
      "EPOCH 750 ...\n",
      "Validation Accuracy = 0.785\n",
      "\n",
      "EPOCH 775 ...\n",
      "Validation Accuracy = 0.781\n",
      "\n",
      "EPOCH 800 ...\n",
      "Validation Accuracy = 0.788\n",
      "\n",
      "EPOCH 825 ...\n",
      "Validation Accuracy = 0.785\n",
      "\n",
      "EPOCH 850 ...\n",
      "Validation Accuracy = 0.792\n",
      "\n",
      "EPOCH 875 ...\n",
      "Validation Accuracy = 0.797\n",
      "\n",
      "EPOCH 900 ...\n",
      "Validation Accuracy = 0.799\n",
      "\n",
      "EPOCH 925 ...\n",
      "Validation Accuracy = 0.784\n",
      "\n",
      "EPOCH 950 ...\n",
      "Validation Accuracy = 0.788\n",
      "\n",
      "EPOCH 975 ...\n",
      "Validation Accuracy = 0.785\n",
      "\n",
      "EPOCH 1000 ...\n",
      "Validation Accuracy = 0.798\n",
      "\n",
      "Model saved\n"
     ]
    }
   ],
   "source": [
    "EPOCHS = 1000\n",
    "BATCH_SIZE = 500\n",
    "\n",
    "# Train\n",
    "with tf.Session() as sess:\n",
    "    sess.run(tf.global_variables_initializer())\n",
    "    num_examples = len(grey_1c_tr)\n",
    "    print(num_examples)\n",
    "    print(\"Training...\")\n",
    "    print()\n",
    "    for i in range(EPOCHS):\n",
    "        grey_1c_tr, y_train = shuffle(grey_1c_tr, y_train)\n",
    "        #print()\n",
    "        #print(\"Grey_1c_tr:\", grey_1c_tr.shape)\n",
    "        #print(\"y_train:\", y_train.shape)\n",
    "        for offset in range(0, num_examples, BATCH_SIZE):\n",
    "            \n",
    "            end = offset + BATCH_SIZE\n",
    "            batch_x, batch_y = grey_1c_tr[offset:end], y_train[offset:end]\n",
    "            #print(batch_x.shape)\n",
    "            #print(batch_y.shape)\n",
    "            sess.run(training_operation, feed_dict={x: batch_x, y: batch_y})\n",
    "            \n",
    "        validation_accuracy = evaluate(grey_1c_va, y_valid)\n",
    "        if i % 25 == 24 :\n",
    "            print(\"EPOCH {} ...\".format(i+1))\n",
    "            print(\"Validation Accuracy = {:.3f}\".format(validation_accuracy))\n",
    "            print()\n",
    "        \n",
    "    saver.save(sess, './lenet_traffic_gs_do_lr005')\n",
    "    print(\"Model saved\")\n",
    "    "
   ]
  },
  {
   "cell_type": "code",
   "execution_count": null,
   "metadata": {},
   "outputs": [],
   "source": []
  },
  {
   "cell_type": "code",
   "execution_count": 34,
   "metadata": {},
   "outputs": [
    {
     "name": "stdout",
     "output_type": "stream",
     "text": [
      "INFO:tensorflow:Restoring parameters from ./lenet_traffic_gs_do_lr005\n",
      "Test Accuracy = 0.234\n"
     ]
    }
   ],
   "source": [
    "with tf.Session() as sess2:\n",
    "    saver.restore(sess2, './lenet_traffic_gs_do_lr005')\n",
    "    test_accuracy = evaluate(normalised_grey_test, y_test)\n",
    "\n",
    "print(\"Test Accuracy = {:.3f}\".format(test_accuracy))"
   ]
  },
  {
   "cell_type": "code",
   "execution_count": null,
   "metadata": {},
   "outputs": [],
   "source": [
    "### Train your model here.\n",
    "### Calculate and report the accuracy on the training and validation set.\n",
    "### Once a final model architecture is selected, \n",
    "### the accuracy on the test set should be calculated and reported as well.\n",
    "### Feel free to use as many code cells as needed."
   ]
  },
  {
   "cell_type": "markdown",
   "metadata": {},
   "source": [
    "---\n",
    "\n",
    "## Step 3: Test a Model on New Images\n",
    "\n",
    "To give yourself more insight into how your model is working, download at least five pictures of German traffic signs from the web and use your model to predict the traffic sign type.\n",
    "\n",
    "You may find `signnames.csv` useful as it contains mappings from the class id (integer) to the actual sign name."
   ]
  },
  {
   "cell_type": "markdown",
   "metadata": {},
   "source": [
    "### Load and Output the Images"
   ]
  },
  {
   "cell_type": "code",
   "execution_count": null,
   "metadata": {},
   "outputs": [],
   "source": [
    "### Load the images and plot them here.\n",
    "### Feel free to use as many code cells as needed."
   ]
  },
  {
   "cell_type": "markdown",
   "metadata": {},
   "source": [
    "### Predict the Sign Type for Each Image"
   ]
  },
  {
   "cell_type": "code",
   "execution_count": null,
   "metadata": {},
   "outputs": [],
   "source": [
    "### Run the predictions here and use the model to output the prediction for each image.\n",
    "### Make sure to pre-process the images with the same pre-processing pipeline used earlier.\n",
    "### Feel free to use as many code cells as needed."
   ]
  },
  {
   "cell_type": "markdown",
   "metadata": {},
   "source": [
    "### Analyze Performance"
   ]
  },
  {
   "cell_type": "code",
   "execution_count": null,
   "metadata": {},
   "outputs": [],
   "source": [
    "### Calculate the accuracy for these 5 new images. \n",
    "### For example, if the model predicted 1 out of 5 signs correctly, it's 20% accurate on these new images."
   ]
  },
  {
   "cell_type": "markdown",
   "metadata": {},
   "source": [
    "### Output Top 5 Softmax Probabilities For Each Image Found on the Web"
   ]
  },
  {
   "cell_type": "markdown",
   "metadata": {},
   "source": [
    "For each of the new images, print out the model's softmax probabilities to show the **certainty** of the model's predictions (limit the output to the top 5 probabilities for each image). [`tf.nn.top_k`](https://www.tensorflow.org/versions/r0.12/api_docs/python/nn.html#top_k) could prove helpful here. \n",
    "\n",
    "The example below demonstrates how tf.nn.top_k can be used to find the top k predictions for each image.\n",
    "\n",
    "`tf.nn.top_k` will return the values and indices (class ids) of the top k predictions. So if k=3, for each sign, it'll return the 3 largest probabilities (out of a possible 43) and the correspoding class ids.\n",
    "\n",
    "Take this numpy array as an example. The values in the array represent predictions. The array contains softmax probabilities for five candidate images with six possible classes. `tf.nn.top_k` is used to choose the three classes with the highest probability:\n",
    "\n",
    "```\n",
    "# (5, 6) array\n",
    "a = np.array([[ 0.24879643,  0.07032244,  0.12641572,  0.34763842,  0.07893497,\n",
    "         0.12789202],\n",
    "       [ 0.28086119,  0.27569815,  0.08594638,  0.0178669 ,  0.18063401,\n",
    "         0.15899337],\n",
    "       [ 0.26076848,  0.23664738,  0.08020603,  0.07001922,  0.1134371 ,\n",
    "         0.23892179],\n",
    "       [ 0.11943333,  0.29198961,  0.02605103,  0.26234032,  0.1351348 ,\n",
    "         0.16505091],\n",
    "       [ 0.09561176,  0.34396535,  0.0643941 ,  0.16240774,  0.24206137,\n",
    "         0.09155967]])\n",
    "```\n",
    "\n",
    "Running it through `sess.run(tf.nn.top_k(tf.constant(a), k=3))` produces:\n",
    "\n",
    "```\n",
    "TopKV2(values=array([[ 0.34763842,  0.24879643,  0.12789202],\n",
    "       [ 0.28086119,  0.27569815,  0.18063401],\n",
    "       [ 0.26076848,  0.23892179,  0.23664738],\n",
    "       [ 0.29198961,  0.26234032,  0.16505091],\n",
    "       [ 0.34396535,  0.24206137,  0.16240774]]), indices=array([[3, 0, 5],\n",
    "       [0, 1, 4],\n",
    "       [0, 5, 1],\n",
    "       [1, 3, 5],\n",
    "       [1, 4, 3]], dtype=int32))\n",
    "```\n",
    "\n",
    "Looking just at the first row we get `[ 0.34763842,  0.24879643,  0.12789202]`, you can confirm these are the 3 largest probabilities in `a`. You'll also notice `[3, 0, 5]` are the corresponding indices."
   ]
  },
  {
   "cell_type": "code",
   "execution_count": null,
   "metadata": {},
   "outputs": [],
   "source": [
    "### Print out the top five softmax probabilities for the predictions on the German traffic sign images found on the web. \n",
    "### Feel free to use as many code cells as needed."
   ]
  },
  {
   "cell_type": "markdown",
   "metadata": {},
   "source": [
    "### Project Writeup\n",
    "\n",
    "Once you have completed the code implementation, document your results in a project writeup using this [template](https://github.com/udacity/CarND-Traffic-Sign-Classifier-Project/blob/master/writeup_template.md) as a guide. The writeup can be in a markdown or pdf file. "
   ]
  },
  {
   "cell_type": "markdown",
   "metadata": {},
   "source": [
    "> **Note**: Once you have completed all of the code implementations and successfully answered each question above, you may finalize your work by exporting the iPython Notebook as an HTML document. You can do this by using the menu above and navigating to  \\n\",\n",
    "    \"**File -> Download as -> HTML (.html)**. Include the finished document along with this notebook as your submission."
   ]
  },
  {
   "cell_type": "markdown",
   "metadata": {},
   "source": [
    "---\n",
    "\n",
    "## Step 4 (Optional): Visualize the Neural Network's State with Test Images\n",
    "\n",
    " This Section is not required to complete but acts as an additional excersise for understaning the output of a neural network's weights. While neural networks can be a great learning device they are often referred to as a black box. We can understand what the weights of a neural network look like better by plotting their feature maps. After successfully training your neural network you can see what it's feature maps look like by plotting the output of the network's weight layers in response to a test stimuli image. From these plotted feature maps, it's possible to see what characteristics of an image the network finds interesting. For a sign, maybe the inner network feature maps react with high activation to the sign's boundary outline or to the contrast in the sign's painted symbol.\n",
    "\n",
    " Provided for you below is the function code that allows you to get the visualization output of any tensorflow weight layer you want. The inputs to the function should be a stimuli image, one used during training or a new one you provided, and then the tensorflow variable name that represents the layer's state during the training process, for instance if you wanted to see what the [LeNet lab's](https://classroom.udacity.com/nanodegrees/nd013/parts/fbf77062-5703-404e-b60c-95b78b2f3f9e/modules/6df7ae49-c61c-4bb2-a23e-6527e69209ec/lessons/601ae704-1035-4287-8b11-e2c2716217ad/concepts/d4aca031-508f-4e0b-b493-e7b706120f81) feature maps looked like for it's second convolutional layer you could enter conv2 as the tf_activation variable.\n",
    "\n",
    "For an example of what feature map outputs look like, check out NVIDIA's results in their paper [End-to-End Deep Learning for Self-Driving Cars](https://devblogs.nvidia.com/parallelforall/deep-learning-self-driving-cars/) in the section Visualization of internal CNN State. NVIDIA was able to show that their network's inner weights had high activations to road boundary lines by comparing feature maps from an image with a clear path to one without. Try experimenting with a similar test to show that your trained network's weights are looking for interesting features, whether it's looking at differences in feature maps from images with or without a sign, or even what feature maps look like in a trained network vs a completely untrained one on the same sign image.\n",
    "\n",
    "<figure>\n",
    " <img src=\"visualize_cnn.png\" width=\"380\" alt=\"Combined Image\" />\n",
    " <figcaption>\n",
    " <p></p> \n",
    " <p style=\"text-align: center;\"> Your output should look something like this (above)</p> \n",
    " </figcaption>\n",
    "</figure>\n",
    " <p></p> \n"
   ]
  },
  {
   "cell_type": "code",
   "execution_count": null,
   "metadata": {},
   "outputs": [],
   "source": [
    "### Visualize your network's feature maps here.\n",
    "### Feel free to use as many code cells as needed.\n",
    "\n",
    "# image_input: the test image being fed into the network to produce the feature maps\n",
    "# tf_activation: should be a tf variable name used during your training procedure that represents the calculated state of a specific weight layer\n",
    "# activation_min/max: can be used to view the activation contrast in more detail, by default matplot sets min and max to the actual min and max values of the output\n",
    "# plt_num: used to plot out multiple different weight feature map sets on the same block, just extend the plt number for each new feature map entry\n",
    "\n",
    "def outputFeatureMap(image_input, tf_activation, activation_min=-1, activation_max=-1 ,plt_num=1):\n",
    "    # Here make sure to preprocess your image_input in a way your network expects\n",
    "    # with size, normalization, ect if needed\n",
    "    # image_input =\n",
    "    # Note: x should be the same name as your network's tensorflow data placeholder variable\n",
    "    # If you get an error tf_activation is not defined it may be having trouble accessing the variable from inside a function\n",
    "    activation = tf_activation.eval(session=sess,feed_dict={x : image_input})\n",
    "    featuremaps = activation.shape[3]\n",
    "    plt.figure(plt_num, figsize=(15,15))\n",
    "    for featuremap in range(featuremaps):\n",
    "        plt.subplot(6,8, featuremap+1) # sets the number of feature maps to show on each row and column\n",
    "        plt.title('FeatureMap ' + str(featuremap)) # displays the feature map number\n",
    "        if activation_min != -1 & activation_max != -1:\n",
    "            plt.imshow(activation[0,:,:, featuremap], interpolation=\"nearest\", vmin =activation_min, vmax=activation_max, cmap=\"gray\")\n",
    "        elif activation_max != -1:\n",
    "            plt.imshow(activation[0,:,:, featuremap], interpolation=\"nearest\", vmax=activation_max, cmap=\"gray\")\n",
    "        elif activation_min !=-1:\n",
    "            plt.imshow(activation[0,:,:, featuremap], interpolation=\"nearest\", vmin=activation_min, cmap=\"gray\")\n",
    "        else:\n",
    "            plt.imshow(activation[0,:,:, featuremap], interpolation=\"nearest\", cmap=\"gray\")"
   ]
  }
 ],
 "metadata": {
  "anaconda-cloud": {},
  "kernelspec": {
   "display_name": "Python 3",
   "language": "python",
   "name": "python3"
  },
  "language_info": {
   "codemirror_mode": {
    "name": "ipython",
    "version": 3
   },
   "file_extension": ".py",
   "mimetype": "text/x-python",
   "name": "python",
   "nbconvert_exporter": "python",
   "pygments_lexer": "ipython3",
   "version": "3.6.8"
  }
 },
 "nbformat": 4,
 "nbformat_minor": 1
}
